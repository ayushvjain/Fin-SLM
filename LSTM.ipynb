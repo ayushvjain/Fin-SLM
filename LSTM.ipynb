{
  "nbformat": 4,
  "nbformat_minor": 0,
  "metadata": {
    "colab": {
      "provenance": [],
      "gpuType": "T4"
    },
    "kernelspec": {
      "name": "python3",
      "display_name": "Python 3"
    },
    "language_info": {
      "name": "python"
    },
    "accelerator": "GPU"
  },
  "cells": [
    {
      "cell_type": "code",
      "source": [
        "import os\n",
        "import torch\n",
        "import torch.nn as nn\n",
        "import torch.optim as optim\n",
        "from torch.utils.data import Dataset, DataLoader\n",
        "from transformers import AutoTokenizer, AutoModel\n",
        "import numpy as np\n",
        "\n",
        "device = torch.device('cuda' if torch.cuda.is_available() else 'cpu')\n",
        "\n",
        "# Dataset\n",
        "class FinancialDatasetBERT(Dataset):\n",
        "    def __init__(self, text_path, tokenizer_name, max_len=128):\n",
        "        self.tokenizer = AutoTokenizer.from_pretrained(tokenizer_name)\n",
        "        self.max_len = max_len\n",
        "        self.data = self.load_data(text_path)\n",
        "\n",
        "    def load_data(self, path):\n",
        "        with open(path, 'r') as f:\n",
        "            text = f.read().split('\\n')\n",
        "        return [line.strip() for line in text if line.strip() and not line.startswith('---')]\n",
        "\n",
        "    def __len__(self):\n",
        "        return len(self.data)\n",
        "\n",
        "    def __getitem__(self, idx):\n",
        "        sentence = self.data[idx]\n",
        "        encoding = self.tokenizer(sentence, padding='max_length', truncation=True, max_length=self.max_len, return_tensors=\"pt\")\n",
        "        input_ids = encoding['input_ids'].squeeze(0)\n",
        "        attention_mask = encoding['attention_mask'].squeeze(0)\n",
        "\n",
        "        # Create target ids shifted by one (language modeling)\n",
        "        target_ids = input_ids.clone()\n",
        "        target_ids[:-1] = input_ids[1:]\n",
        "        target_ids[-1] = self.tokenizer.pad_token_id\n",
        "\n",
        "        return input_ids, attention_mask, target_ids\n"
      ],
      "metadata": {
        "id": "OcIP6NKs8c0d"
      },
      "execution_count": 1,
      "outputs": []
    },
    {
      "cell_type": "code",
      "source": [
        "# Collate function\n",
        "def collate_fn_bert(batch):\n",
        "    input_ids, attention_masks, target_ids = zip(*batch)\n",
        "    return (\n",
        "        torch.stack(input_ids),\n",
        "        torch.stack(attention_masks),\n",
        "        torch.stack(target_ids)\n",
        "    )"
      ],
      "metadata": {
        "id": "6XXjPbtO86td"
      },
      "execution_count": 2,
      "outputs": []
    },
    {
      "cell_type": "code",
      "source": [
        "# Model with unidirectional LSTM\n",
        "class LSTMWithBERT(nn.Module):\n",
        "    def __init__(self, bert_model_name, hidden_dim, vocab_size):\n",
        "        super(LSTMWithBERT, self).__init__()\n",
        "        self.bert = AutoModel.from_pretrained(bert_model_name)\n",
        "        # Set bidirectional=False to use a unidirectional LSTM\n",
        "        self.lstm = nn.LSTM(self.bert.config.hidden_size, hidden_dim, batch_first=True, bidirectional=False)\n",
        "        self.fc = nn.Linear(hidden_dim, vocab_size)\n",
        "\n",
        "    def forward(self, input_ids, attention_mask):\n",
        "        with torch.no_grad():  # Freeze BERT for efficiency (optional)\n",
        "            bert_output = self.bert(input_ids=input_ids, attention_mask=attention_mask)\n",
        "\n",
        "        lstm_out, _ = self.lstm(bert_output.last_hidden_state)\n",
        "        output = self.fc(lstm_out)\n",
        "        return output\n",
        "\n",
        "\n",
        "bert_model_name = \"bert-base-uncased\"\n",
        "max_len = 128\n",
        "batch_size = 8\n",
        "hidden_dim = 512\n",
        "num_epochs = 3\n",
        "checkpoint_path = \"bert_lstm_checkpoint.pth\"\n",
        "text_file_path = \"/content/tokenized_output.txt\"\n",
        "\n",
        "# Dataset and DataLoader\n",
        "dataset = FinancialDatasetBERT(text_file_path, bert_model_name, max_len)\n",
        "dataloader = DataLoader(dataset, batch_size=batch_size, shuffle=True, collate_fn=collate_fn_bert)\n",
        "\n",
        "# Model setup\n",
        "vocab_size = dataset.tokenizer.vocab_size\n",
        "model = LSTMWithBERT(bert_model_name, hidden_dim, vocab_size).to(device)\n",
        "optimizer = optim.Adam(model.parameters(), lr=0.001)\n",
        "criterion = nn.CrossEntropyLoss(ignore_index=dataset.tokenizer.pad_token_id)\n",
        "\n",
        "# Load checkpoint if exists\n",
        "start_epoch = 0\n",
        "if os.path.exists(checkpoint_path):\n",
        "    print(\"Loading checkpoint...\")\n",
        "    checkpoint = torch.load(checkpoint_path, map_location=device)\n",
        "    model.load_state_dict(checkpoint['model_state_dict'])\n",
        "    optimizer.load_state_dict(checkpoint['optimizer_state_dict'])\n",
        "    start_epoch = checkpoint['epoch'] + 1\n",
        "    print(f\"Resuming from epoch {start_epoch}\")\n",
        "\n",
        "# Training loop\n",
        "for epoch in range(start_epoch, num_epochs):\n",
        "    model.train()\n",
        "    total_loss = 0\n",
        "\n",
        "    for input_ids, attention_mask, target_ids in dataloader:\n",
        "        input_ids = input_ids.to(device)\n",
        "        attention_mask = attention_mask.to(device)\n",
        "        target_ids = target_ids.to(device)\n",
        "\n",
        "        optimizer.zero_grad()\n",
        "        output = model(input_ids, attention_mask)\n",
        "        loss = criterion(output.view(-1, vocab_size), target_ids.view(-1))\n",
        "        loss.backward()\n",
        "        optimizer.step()\n",
        "\n",
        "        total_loss += loss.item()\n",
        "\n",
        "    avg_loss = total_loss / len(dataloader)\n",
        "    print(f\"Epoch {epoch+1}/{num_epochs}, Loss: {avg_loss:.6f}\")\n",
        "\n",
        "    # Save checkpoint\n",
        "    torch.save({\n",
        "        'epoch': epoch,\n",
        "        'model_state_dict': model.state_dict(),\n",
        "        'optimizer_state_dict': optimizer.state_dict(),\n",
        "        'loss': avg_loss,\n",
        "    }, checkpoint_path)\n",
        "    print(f\"Checkpoint saved at epoch {epoch+1}\")\n"
      ],
      "metadata": {
        "colab": {
          "base_uri": "https://localhost:8080/"
        },
        "id": "l71lvCh289DW",
        "outputId": "0df741b4-f814-44c5-ec6a-d934485525ad"
      },
      "execution_count": 8,
      "outputs": [
        {
          "output_type": "stream",
          "name": "stdout",
          "text": [
            "Loading checkpoint...\n",
            "Resuming from epoch 3\n"
          ]
        }
      ]
    },
    {
      "cell_type": "code",
      "source": [
        "def calculate_perplexity(model, dataloader, criterion):\n",
        "    model.eval()\n",
        "    total_loss = 0\n",
        "    with torch.no_grad():\n",
        "        for input_ids, attention_mask, target_ids in dataloader:\n",
        "            input_ids = input_ids.to(device)\n",
        "            attention_mask = attention_mask.to(device)\n",
        "            target_ids = target_ids.to(device)\n",
        "\n",
        "            output = model(input_ids, attention_mask)\n",
        "            loss = criterion(output.view(-1, vocab_size), target_ids.view(-1))\n",
        "            total_loss += loss.item()\n",
        "\n",
        "    avg_loss = total_loss / len(dataloader)\n",
        "    perplexity = np.exp(avg_loss)\n",
        "    return perplexity\n"
      ],
      "metadata": {
        "id": "x40iNgTt9WJ4"
      },
      "execution_count": 9,
      "outputs": []
    },
    {
      "cell_type": "code",
      "source": [
        "perplexity = calculate_perplexity(model, dataloader, criterion)\n",
        "print(f\"Model Perplexity: {perplexity:.2f}\")"
      ],
      "metadata": {
        "colab": {
          "base_uri": "https://localhost:8080/"
        },
        "id": "O8D9dkCP-Adz",
        "outputId": "4e4e7f07-b27f-4f41-98b6-fb663254f336"
      },
      "execution_count": 10,
      "outputs": [
        {
          "output_type": "stream",
          "name": "stdout",
          "text": [
            "Model Perplexity: 35.50\n"
          ]
        }
      ]
    },
    {
      "cell_type": "code",
      "source": [
        "def generate_text(model, tokenizer, prompt, max_new_tokens=20):\n",
        "    model.eval()\n",
        "    input_encoding = tokenizer(prompt, return_tensors=\"pt\", truncation=True, max_length=128)\n",
        "    input_ids = input_encoding[\"input_ids\"].to(device)\n",
        "    attention_mask = input_encoding[\"attention_mask\"].to(device)\n",
        "\n",
        "    generated_ids = input_ids.clone()\n",
        "\n",
        "    with torch.no_grad():\n",
        "        for _ in range(max_new_tokens):\n",
        "            output = model(generated_ids, attention_mask)\n",
        "            next_token_logits = output[:, -1, :]  # Get the last time step\n",
        "            next_token_id = torch.argmax(next_token_logits, dim=-1).unsqueeze(0)\n",
        "            generated_ids = torch.cat((generated_ids, next_token_id), dim=1)\n",
        "\n",
        "            # Update attention mask\n",
        "            attention_mask = torch.ones_like(generated_ids).to(device)\n",
        "\n",
        "            # Stop if [SEP] or [PAD] generated\n",
        "            if next_token_id.item() in [tokenizer.sep_token_id, tokenizer.pad_token_id]:\n",
        "                break\n",
        "\n",
        "    generated_text = tokenizer.decode(generated_ids.squeeze(), skip_special_tokens=True)\n",
        "    return generated_text\n",
        "\n",
        "# 🔍 Run generation on the prompt\n",
        "prompt = \"what are the global trends in finance\"\n",
        "output_text = generate_text(model, dataset.tokenizer, prompt)\n",
        "print(f\"Prompt: {prompt}\\n Model Output: {output_text}\")"
      ],
      "metadata": {
        "colab": {
          "base_uri": "https://localhost:8080/"
        },
        "id": "xDlx6Oth9kd7",
        "outputId": "77fa574b-9120-4e86-d4f6-0585eca3238f"
      },
      "execution_count": 7,
      "outputs": [
        {
          "output_type": "stream",
          "name": "stdout",
          "text": [
            "Prompt: what are the global trends in finance\n",
            " Model Output: what are the global trends in finance\n"
          ]
        }
      ]
    }
  ]
}